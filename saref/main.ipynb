{
 "cells": [
  {
   "cell_type": "code",
   "execution_count": 1,
   "metadata": {},
   "outputs": [
    {
     "ename": "ModuleNotFoundError",
     "evalue": "No module named 'run_gpt4'",
     "output_type": "error",
     "traceback": [
      "\u001b[1;31m---------------------------------------------------------------------------\u001b[0m",
      "\u001b[1;31mModuleNotFoundError\u001b[0m                       Traceback (most recent call last)",
      "Cell \u001b[1;32mIn[1], line 5\u001b[0m\n\u001b[0;32m      2\u001b[0m \u001b[38;5;28;01mimport\u001b[39;00m \u001b[38;5;21;01msys\u001b[39;00m\n\u001b[0;32m      3\u001b[0m sys\u001b[38;5;241m.\u001b[39mpath\u001b[38;5;241m.\u001b[39minsert(\u001b[38;5;241m1\u001b[39m, \u001b[38;5;124m'\u001b[39m\u001b[38;5;124m./../\u001b[39m\u001b[38;5;124m'\u001b[39m)\n\u001b[1;32m----> 5\u001b[0m \u001b[38;5;28;01mimport\u001b[39;00m \u001b[38;5;21;01mrun_gpt4\u001b[39;00m\n",
      "\u001b[1;31mModuleNotFoundError\u001b[0m: No module named 'run_gpt4'"
     ]
    }
   ],
   "source": [
    "import pandas as pd\n",
    "import sys\n",
    "sys.path.insert(1, './../')\n",
    "\n",
    "import run_gpt4"
   ]
  },
  {
   "cell_type": "code",
   "execution_count": null,
   "metadata": {},
   "outputs": [],
   "source": [
    "f = open(\"ontology.ttl\", \"r\")\n",
    "ontology = f.read()\n",
    "f.close()\n",
    "f = open(\"knowledge_graph.ttl\", \"r\")\n",
    "kg = f.read()\n",
    "f.close()\n",
    "df = pd.read_excel(\"competency_question.xlsx\", sheet_name=\"Sheet1\")\n",
    "f = open(\"template.txt\", \"r\")\n",
    "template = f.read()\n",
    "f.close()\n",
    "\n"
   ]
  },
  {
   "cell_type": "code",
   "execution_count": null,
   "metadata": {},
   "outputs": [],
   "source": [
    "template = template.replace(\"{SCHEMA}\", ontology)\n",
    "nlqs = df[\"NLQ\"]"
   ]
  },
  {
   "cell_type": "code",
   "execution_count": null,
   "metadata": {},
   "outputs": [
    {
     "data": {
      "text/plain": [
       "['\\nPREFIX saref: <https://w3id.org/saref#>\\nPREFIX rdf: <http://www.w3.org/1999/02/22-rdf-syntax-ns#>\\nPREFIX rdfs: <http://www.w3.org/2000/01/rdf-schema#>\\n\\nSELECT ?device ?model ?manufacturer\\nWHERE {\\n  ?device rdf:type/rdfs:subClassOf* saref:Device .\\n  ?device saref:hasModel ?model .\\n  ?device saref:hasManufacturer ?manufacturer .\\n}\\n']"
      ]
     },
     "execution_count": 4,
     "metadata": {},
     "output_type": "execute_result"
    }
   ],
   "source": [
    "queries = run_gpt4.run_nlqs(template, [nlqs[0]])\n",
    "queries"
   ]
  },
  {
   "cell_type": "code",
   "execution_count": null,
   "metadata": {},
   "outputs": [
    {
     "name": "stdout",
     "output_type": "stream",
     "text": [
      "['\\nPREFIX saref: <https://w3id.org/saref#>\\nPREFIX rdf: <http://www.w3.org/1999/02/22-rdf-syntax-ns#>\\nPREFIX rdfs: <http://www.w3.org/2000/01/rdf-schema#>\\n\\nSELECT ?device ?model ?manufacturer\\nWHERE {\\n  ?device rdf:type/rdfs:subClassOf* saref:Device .\\n  ?device saref:hasModel ?model .\\n  ?device saref:hasManufacturer ?manufacturer .\\n}\\n']\n"
     ]
    }
   ],
   "source": [
    "print(queries)"
   ]
  },
  {
   "cell_type": "code",
   "execution_count": null,
   "metadata": {},
   "outputs": [],
   "source": [
    "queries = run_gpt4.run_nlqs(template, nlqs)\n",
    "df[\"llm_auto_generated_query\"] = queries\n"
   ]
  },
  {
   "cell_type": "code",
   "execution_count": null,
   "metadata": {},
   "outputs": [],
   "source": [
    "results = run_gpt4.call_queries(queries, \"knowledge_graph.ttl\")\n",
    "df[\"llm_auto_generated_result\"] = results\n",
    "df.to_excel(\"output/generated_queries.xlsx\")  "
   ]
  },
  {
   "cell_type": "code",
   "execution_count": null,
   "metadata": {},
   "outputs": [
    {
     "name": "stdout",
     "output_type": "stream",
     "text": [
      "                  precision    recall  f1-score   support\n",
      "\n",
      "  valid question       0.83      1.00      0.91         5\n",
      "invalid question       1.00      0.90      0.95        10\n",
      "\n",
      "        accuracy                           0.93        15\n",
      "       macro avg       0.92      0.95      0.93        15\n",
      "    weighted avg       0.94      0.93      0.93        15\n",
      "\n"
     ]
    }
   ],
   "source": [
    "from sklearn.metrics import classification_report\n",
    "y_true = [1]*10 + [0]*5\n",
    "y_pred = [0]*1 + [1]*9 + [0]*5\n",
    "target_names = ['valid question', 'invalid question']\n",
    "print(classification_report(y_true, y_pred, target_names=target_names))"
   ]
  }
 ],
 "metadata": {
  "kernelspec": {
   "display_name": "openai",
   "language": "python",
   "name": "python3"
  },
  "language_info": {
   "codemirror_mode": {
    "name": "ipython",
    "version": 3
   },
   "file_extension": ".py",
   "mimetype": "text/x-python",
   "name": "python",
   "nbconvert_exporter": "python",
   "pygments_lexer": "ipython3",
   "version": "3.11.4"
  }
 },
 "nbformat": 4,
 "nbformat_minor": 2
}
